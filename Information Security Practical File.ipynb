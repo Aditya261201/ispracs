{
 "cells": [
  {
   "cell_type": "markdown",
   "id": "4a3303c2",
   "metadata": {},
   "source": [
    "Q1 Implement the error correcting code."
   ]
  },
  {
   "cell_type": "code",
   "execution_count": 2,
   "id": "74144123",
   "metadata": {},
   "outputs": [
    {
     "name": "stdout",
     "output_type": "stream",
     "text": [
      "Enter code : 1001001\n",
      "Original code:     1001001\n",
      "Corrected code:    1000001\n"
     ]
    }
   ],
   "source": [
    "def hamming_correct(code):\n",
    "    # Calculate the number of parity bits.\n",
    "    n = len(code)\n",
    "    r = 0\n",
    "    while 2**r <= n:\n",
    "        r += 1    \n",
    "    # Generate the syndrome.\n",
    "    syndrome = 0\n",
    "    for i in range(r):\n",
    "        pos = 2**i - 1\n",
    "        bit = 0\n",
    "        for j in range(pos, n, 2*pos + 2):\n",
    "            for k in range(pos + 1):\n",
    "                if j + k >= n:\n",
    "                    break\n",
    "                if (k != pos):\n",
    "                    bit = bit ^ int(code[j + k])\n",
    "        syndrome += bit * (2**i)    \n",
    "    # If the syndrome is non-zero, correct the error.\n",
    "    if syndrome > 0:\n",
    "        # Flip the bit at the position indicated by the syndrome.\n",
    "        pos = syndrome - 1\n",
    "        if pos < n:\n",
    "            code = code[:pos] + str(int(not int(code[pos]))) + code[pos+1:]    \n",
    "    return code\n",
    "code = input(\"Enter code : \")\n",
    "# Correct the error in the code.\n",
    "corrected_code = hamming_correct(code)\n",
    "# Print the original code and the corrected code.\n",
    "print(\"Original code:    \", code)\n",
    "print(\"Corrected code:   \", corrected_code)\n"
   ]
  },
  {
   "cell_type": "code",
   "execution_count": null,
   "id": "69ab399c",
   "metadata": {},
   "outputs": [],
   "source": [
    "\n",
    "\n",
    "\n",
    "\n",
    "\n",
    "\n",
    "\n",
    "\n"
   ]
  },
  {
   "cell_type": "markdown",
   "id": "a35588ef",
   "metadata": {},
   "source": [
    "Q2 Implement the error detecting code."
   ]
  },
  {
   "cell_type": "code",
   "execution_count": 5,
   "id": "1ade67f9",
   "metadata": {},
   "outputs": [
    {
     "name": "stdout",
     "output_type": "stream",
     "text": [
      "Enter the Data Bits(0s and 1s only): 0111111\n",
      "[0, 1, 1, 1, 1, 1, 1]\n",
      "Error Detected in bit 0\n"
     ]
    }
   ],
   "source": [
    "def hamming_detect(data):\n",
    "    # Determine the number of parity bits\n",
    "    k = 0\n",
    "\n",
    "    while 2**k < len(data) + k + 1:\n",
    "        k += 1\n",
    "    parity_bits = [0] * k\n",
    "\n",
    "    # The Parity Bits\n",
    "    for i in range(k):\n",
    "        bit_pos = 2**i - 1\n",
    "        bits = [data[j] for j in range(len(data)) if (j+1) & (bit_pos+1)]\n",
    "        parity_bits[i] = sum(bits) % 2\n",
    "\n",
    "    # Syndrome\n",
    "    syndrome = 0\n",
    "\n",
    "    for i in range(k):\n",
    "        bit_pos = 2**i - 1\n",
    "\n",
    "        if parity_bits[i] != 0:\n",
    "            syndrome += bit_pos+1\n",
    "\n",
    "    if syndrome != 0:\n",
    "        error_pos = syndrome - 1\n",
    "        print(f\"Error Detected in bit {error_pos}\")\n",
    "    else:\n",
    "        print(\"No Errors detected!\")\n",
    "\n",
    "\n",
    "if __name__ == \"__main__\":\n",
    "    data = input(\"Enter the Data Bits(0s and 1s only): \")\n",
    "    data = list(map(int, data))\n",
    "\n",
    "    print(data)\n",
    "    hamming_detect(data)\n"
   ]
  },
  {
   "cell_type": "code",
   "execution_count": null,
   "id": "c6fd6d09",
   "metadata": {},
   "outputs": [],
   "source": [
    "\n",
    "\n",
    "\n",
    "\n",
    "\n",
    "\n",
    "\n",
    "\n"
   ]
  },
  {
   "cell_type": "markdown",
   "id": "c79ed3dd",
   "metadata": {},
   "source": [
    "Q3 Implement Caesar cipher substitution operation."
   ]
  },
  {
   "cell_type": "code",
   "execution_count": 4,
   "id": "208b0017",
   "metadata": {},
   "outputs": [
    {
     "name": "stdout",
     "output_type": "stream",
     "text": [
      "Plain txt : HELP\n",
      "Shift pattern : 3\n",
      "Cipher: LIPT\n"
     ]
    }
   ],
   "source": [
    "def encypt_func(txt, s):  \n",
    "    result = \"\"  \n",
    "  \n",
    "  \n",
    "# transverse the plain txt  \n",
    "    for i in range(len(txt)):  \n",
    "        char = txt[i]  \n",
    "        # encypt_func uppercase characters in plain txt  \n",
    "  \n",
    "        if (char.isupper()):  \n",
    "            result += chr((ord(char) + s - 64) % 26 + 65)  \n",
    "        # encypt_func lowercase characters in plain txt  \n",
    "        else:  \n",
    "            result += chr((ord(char) + s - 96) % 26 + 97)  \n",
    "    return result  \n",
    "# check the above function  \n",
    "txt = \"HELP\"  \n",
    "s = 3 \n",
    "  \n",
    "print(\"Plain txt : \" + txt)  \n",
    "print(\"Shift pattern : \" + str(s))  \n",
    "print(\"Cipher: \" + encypt_func(txt, s))"
   ]
  },
  {
   "cell_type": "code",
   "execution_count": null,
   "id": "3ac1a674",
   "metadata": {},
   "outputs": [],
   "source": [
    "\n",
    "\n",
    "\n",
    "\n",
    "\n",
    "\n",
    "\n",
    "\n"
   ]
  },
  {
   "cell_type": "markdown",
   "id": "dbeb4204",
   "metadata": {},
   "source": [
    "Q4 Implement monoalphabetic and polyalphabetic cipher substitution operation."
   ]
  },
  {
   "cell_type": "code",
   "execution_count": 28,
   "id": "4f70badc",
   "metadata": {},
   "outputs": [
    {
     "name": "stdout",
     "output_type": "stream",
     "text": [
      "cipher text: tuj\n",
      "encryption key: twyerzkfpgomxuhsvaijdbcnlq\n",
      "cipher text after decryption : ant\n"
     ]
    }
   ],
   "source": [
    "import random\n",
    "alpha = 'abcdefghijklmnopqrstuvwxyz'\n",
    "\n",
    "# Encrypts the plain text message\n",
    "def encrypt(original, key=None):\n",
    "    if key is None:\n",
    "        l = list(alpha)\n",
    "        random.shuffle(l)\n",
    "        key = ''.join(l)\n",
    "    new = []\n",
    "    for letter in original:\n",
    "        new.append(key[alpha.index(letter)])\n",
    "    return [''.join(new), key]\n",
    "\n",
    "# Decrypts the encrypted message\n",
    "def decrypt(cipher, key=None):\n",
    "    if key is not None:\n",
    "        new = []\n",
    "        for letter in cipher:\n",
    "            new.append(alpha[key.index(letter)])\n",
    "        return ''.join(new)\n",
    "\n",
    "e = encrypt('ant', None)\n",
    "print('cipher text:',e[0]) # Prints encrypted message\n",
    "print('encryption key:',e[1])\n",
    "print('cipher text after decryption :',decrypt(e[0], e[1]))\n"
   ]
  },
  {
   "cell_type": "code",
   "execution_count": 31,
   "id": "89e93644",
   "metadata": {},
   "outputs": [
    {
     "name": "stdout",
     "output_type": "stream",
     "text": [
      "cipher text: hrms\n",
      "encryption key: ['gcmubxpywofqiadvtnzlkjsreh', 'preokhdgilsunjxzcawqmyvtfb', 'dkbnqwgvehxoclafupmrjzyits', 'bxrhvejdkfznmqustygicoawpl']\n",
      "cipher text after decryption: ball\n"
     ]
    }
   ],
   "source": [
    "import random\n",
    "alpha = 'abcdefghijklmnopqrstuvwxyz'\n",
    "\n",
    "# Generates a random key of a specified length\n",
    "def generate_key(length):\n",
    "    keys = []\n",
    "    for i in range(length):\n",
    "        l = list(alpha)\n",
    "        random.shuffle(l)\n",
    "        keys.append(''.join(l))\n",
    "    return keys\n",
    "\n",
    "# Encrypts the plain text message using a polyalphabetic cipher\n",
    "def encrypt(original, key=None):\n",
    "    if key is None:\n",
    "        key = generate_key(len(original))\n",
    "    new = []\n",
    "    for i, letter in enumerate(original):\n",
    "        shift = alpha.index(key[i % len(key)][i % len(alpha)])\n",
    "        new.append(alpha[(alpha.index(letter) + shift) % len(alpha)])\n",
    "    return [''.join(new), key]\n",
    "\n",
    "# Decrypts the encrypted message\n",
    "def decrypt(cipher, key=None):\n",
    "    if key is not None:\n",
    "        new = []\n",
    "        for i, letter in enumerate(cipher):\n",
    "            shift = alpha.index(key[i % len(key)][i % len(alpha)])\n",
    "            new.append(alpha[(alpha.index(letter) - shift) % len(alpha)])\n",
    "        return ''.join(new)\n",
    "\n",
    "e = encrypt('ball', None)\n",
    "print('cipher text:', e[0]) # Prints encrypted message\n",
    "print('encryption key:', e[1])\n",
    "print('cipher text after decryption:', decrypt(e[0], e[1]))\n"
   ]
  },
  {
   "cell_type": "code",
   "execution_count": null,
   "id": "cf20bd69",
   "metadata": {},
   "outputs": [],
   "source": [
    "\n",
    "\n",
    "\n",
    "\n",
    "\n",
    "\n",
    "\n",
    "\n"
   ]
  },
  {
   "cell_type": "markdown",
   "id": "23860b94",
   "metadata": {},
   "source": [
    "Q5 Implement Playfair cipher substitution operation."
   ]
  },
  {
   "cell_type": "code",
   "execution_count": 3,
   "id": "30432600",
   "metadata": {},
   "outputs": [
    {
     "name": "stdout",
     "output_type": "stream",
     "text": [
      "Enter the message: monarchy\n",
      "Enter the key: secret\n",
      "Cipher Text: IUVHTRLV\n",
      "Plain Text: MONARCHY\n"
     ]
    }
   ],
   "source": [
    "def playfair_cipher(key, message, encrypt=True):\n",
    "    key = key.replace(\" \", \"\").upper()\n",
    "    message = message.replace(\" \", \"\").upper()\n",
    "\n",
    "    # Generate the Playfair square\n",
    "    alphabet = \"ABCDEFGHIKLMNOPQRSTUVWXYZ\"\n",
    "    square = \"\"\n",
    "    for letter in key:\n",
    "        if letter not in square:\n",
    "            square += letter\n",
    "    for letter in alphabet:\n",
    "        if letter not in square:\n",
    "            square += letter\n",
    "\n",
    "    # Apply the Playfair cipher\n",
    "    pairs = []\n",
    "    for i in range(0, len(message), 2):\n",
    "        pair = message[i:i+2]\n",
    "        if len(pair) == 1:\n",
    "            pair += \"X\"\n",
    "        pairs.append(pair)\n",
    "\n",
    "    cipher_text = \"\"\n",
    "    for pair in pairs:\n",
    "        row1, col1 = divmod(square.index(pair[0]), 5)\n",
    "        row2, col2 = divmod(square.index(pair[1]), 5)\n",
    "\n",
    "        if row1 == row2:\n",
    "            cipher_text += square[row1*5+(col1+1)%5]\n",
    "            cipher_text += square[row2*5+(col2+1)%5]\n",
    "        elif col1 == col2:\n",
    "            cipher_text += square[((row1+1)%5)*5+col1]\n",
    "            cipher_text += square[((row2+1)%5)*5+col2]\n",
    "        else:\n",
    "            cipher_text += square[row1*5+col2]\n",
    "            cipher_text += square[row2*5+col1]\n",
    "\n",
    "    # Decrypt\n",
    "    if not encrypt:\n",
    "        plain_text = \"\"\n",
    "        for i in range(0, len(cipher_text), 2):\n",
    "            pair = cipher_text[i:i+2]\n",
    "            row1, col1 = divmod(square.index(pair[0]), 5)\n",
    "            row2, col2 = divmod(square.index(pair[1]), 5)\n",
    "\n",
    "            if row1 == row2:\n",
    "                plain_text += square[row1*5+(col1-1)%5]\n",
    "                plain_text += square[row2*5+(col2-1)%5]\n",
    "            elif col1 == col2:\n",
    "                plain_text += square[((row1-1)%5)*5+col1]\n",
    "                plain_text += square[((row2-1)%5)*5+col2]\n",
    "            else:\n",
    "                plain_text += square[row1*5+col2]\n",
    "                plain_text += square[row2*5+col1]\n",
    "\n",
    "        return plain_text.replace(\"X\", \"\")\n",
    "\n",
    "    return cipher_text\n",
    "\n",
    "if __name__ == \"__main__\":\n",
    "    message = input(\"Enter the message: \")\n",
    "    key = input(\"Enter the key: \")\n",
    "    encoded_text = playfair_cipher(key,message,encrypt=True)\n",
    "    print(\"Cipher Text:\",encoded_text)\n",
    "    decoded_text = playfair_cipher(key,message,encrypt=False)\n",
    "    print(\"Plain Text:\", decoded_text)\n"
   ]
  },
  {
   "cell_type": "code",
   "execution_count": null,
   "id": "d7660c61",
   "metadata": {},
   "outputs": [],
   "source": [
    "\n",
    "\n",
    "\n",
    "\n",
    "\n",
    "\n",
    "\n",
    "\n"
   ]
  },
  {
   "cell_type": "markdown",
   "id": "ef85e406",
   "metadata": {},
   "source": [
    "Q6 Implement hill cipher substitution operation."
   ]
  },
  {
   "cell_type": "code",
   "execution_count": 8,
   "id": "225f5491",
   "metadata": {},
   "outputs": [
    {
     "name": "stdout",
     "output_type": "stream",
     "text": [
      "plaintext: PAY\n",
      "key: GYBNQKURP\n",
      "Ciphertext:  KTK\n"
     ]
    }
   ],
   "source": [
    "keyMatrix = [[0] * 3 for i in range(3)]\n",
    "\n",
    "# Generate vector for the message\n",
    "messageVector = [[0] for i in range(3)]\n",
    "\n",
    "# Generate vector for the cipher\n",
    "cipherMatrix = [[0] for i in range(3)]\n",
    "\n",
    "# Following function generates the\n",
    "# key matrix for the key string\n",
    "def getKeyMatrix(key):\n",
    "    k = 0\n",
    "    for i in range(3):\n",
    "        for j in range(3):\n",
    "            keyMatrix[i][j] = ord(key[k]) % 65\n",
    "            k += 1\n",
    "\n",
    "\n",
    "def encrypt(messageVector):\n",
    "    for i in range(3):\n",
    "        for j in range(1):\n",
    "            cipherMatrix[i][j] = 0\n",
    "            for x in range(3):\n",
    "                cipherMatrix[i][j] += keyMatrix[i][x] * messageVector[x][j]\n",
    "            cipherMatrix[i][j] = cipherMatrix[i][j] % 26\n",
    "\n",
    "\n",
    "def HillCipher(message, key):\n",
    "\n",
    "    # Get key matrix from the key string\n",
    "    getKeyMatrix(key)\n",
    "    print('key:',key)\n",
    "\n",
    "    # Generate vector for the message\n",
    "    for i in range(3):\n",
    "        messageVector[i][0] = ord(message[i]) % 65\n",
    "\n",
    "    # Following function generates\n",
    "    # the encrypted vector\n",
    "    encrypt(messageVector)\n",
    "\n",
    "    # Generate the encrypted text\n",
    "    # from the encrypted vector\n",
    "    CipherText = []\n",
    "    for i in range(3):\n",
    "        CipherText.append(chr(cipherMatrix[i][0] + 65))\n",
    "\n",
    "    # Finally print the ciphertext\n",
    "    print(\"Ciphertext: \", \"\".join(CipherText))\n",
    "\n",
    "\n",
    "# Driver Code\n",
    "def main():\n",
    "\n",
    "    # Get the message to\n",
    "    # be encrypted\n",
    "    message = \"PAY\"\n",
    "    print('plaintext:',message)\n",
    "\n",
    "    # Get the key\n",
    "    key = \"GYBNQKURP\"\n",
    "\n",
    "    HillCipher(message, key)\n",
    "\n",
    "\n",
    "if __name__ == \"__main__\":\n",
    "    main()\n",
    "\n"
   ]
  },
  {
   "cell_type": "code",
   "execution_count": null,
   "id": "52c915b0",
   "metadata": {},
   "outputs": [],
   "source": [
    "\n",
    "\n",
    "\n",
    "\n",
    "\n",
    "\n",
    "\n",
    "\n"
   ]
  },
  {
   "cell_type": "markdown",
   "id": "3ce9d5e0",
   "metadata": {},
   "source": [
    "Q7 Implement rail fence cipher transposition operation."
   ]
  },
  {
   "cell_type": "code",
   "execution_count": 17,
   "id": "1f24eb79",
   "metadata": {},
   "outputs": [
    {
     "name": "stdout",
     "output_type": "stream",
     "text": [
      "Enter the string to be decrypted: rail\n",
      "Enter the number of rails: 2\n",
      "The raw sequence of indices:  [0, 1]\n",
      "The row indices of the characters in the cipher string:  [0, 1, 0, 1]\n",
      "The row indices of the characters in the plain string:  [0, 0, 1, 1]\n",
      "Transformed message for decryption:  rail\n",
      "The plain text is:  rial\n"
     ]
    }
   ],
   "source": [
    "def sequence(n):\n",
    "    arr = []\n",
    "    i = 0\n",
    "    # creating the sequence required for\n",
    "    # implementing railfence cipher\n",
    "    # the sequence is stored in array\n",
    "    while i < n - 1:\n",
    "        arr.append(i)\n",
    "        i += 1\n",
    "    while i > 0:\n",
    "        arr.append(i)\n",
    "        i -= 1\n",
    "    return arr\n",
    "\n",
    "\n",
    "# this is to implement the logic\n",
    "def railfence(cipher_text, n):\n",
    "    # converting into lower cases\n",
    "    cipher_text = cipher_text.lower()\n",
    "    L = sequence(n)\n",
    "    print(\"The raw sequence of indices: \", L)\n",
    "    temp = L\n",
    "    while len(cipher_text) > len(L):\n",
    "        L = L + temp\n",
    "    for i in range(len(L) - len(cipher_text)):\n",
    "        L.pop()\n",
    "\n",
    "    temp1 = sorted(L)\n",
    "\n",
    "    print(\"The row indices of the characters in the cipher string: \", L)\n",
    "\n",
    "    print(\"The row indices of the characters in the plain string: \", temp1)\n",
    "\n",
    "    print(\"Transformed message for decryption: \", cipher_text)\n",
    "\n",
    "    # converting into plain text\n",
    "    plain_text = \"\"\n",
    "    for i in L:\n",
    "\n",
    "        k = temp1.index(i)\n",
    "        temp1[k] = n\n",
    "        plain_text += cipher_text[k]\n",
    "\n",
    "    print(\"The plain text is: \", plain_text)\n",
    "\n",
    "\n",
    "cipher_text = input(\"Enter the string to be decrypted: \")\n",
    "n = int(input(\"Enter the number of rails: \"))\n",
    "railfence(cipher_text, n)\n"
   ]
  },
  {
   "cell_type": "code",
   "execution_count": null,
   "id": "9b95344d",
   "metadata": {},
   "outputs": [],
   "source": [
    "\n",
    "\n",
    "\n",
    "\n",
    "\n",
    "\n",
    "\n",
    "\n"
   ]
  },
  {
   "cell_type": "markdown",
   "id": "4ed24a8e",
   "metadata": {},
   "source": [
    "Q8 Implement row transposition cipher transposition operation."
   ]
  },
  {
   "cell_type": "code",
   "execution_count": 20,
   "id": "40635863",
   "metadata": {},
   "outputs": [
    {
     "name": "stdout",
     "output_type": "stream",
     "text": [
      "Enter Plain Text for Row Transposition Operation sky\n",
      "Enter Key :- 102418\n",
      "Cypher text is :-  syks\n"
     ]
    }
   ],
   "source": [
    "import re\n",
    "def convert(pt,d):\n",
    "    text=\"\"\n",
    "    for i in d:\n",
    "        i=i-1\n",
    "        j=0\n",
    "        while (j*max(d))+i<len(pt):\n",
    "            text+=pt[(j*max(d))+i]\n",
    "            j+=1\n",
    "    return text\n",
    "def create_matrix(pt,c):\n",
    "    pt=pt.replace(\" \",\"\")\n",
    "    pt=pt.lower()\n",
    "    pt=re.sub('[^a-zA-Z]+', '', pt)\n",
    "    res = [str(sub) for sub in pt]\n",
    "    print(\"Cypher text is :- \",convert(res,c))\n",
    "    \n",
    "    \n",
    "    \n",
    "plaintext=input(\"Enter Plain Text for Row Transposition Operation \")\n",
    "key=input(\"Enter Key :- \")\n",
    "keys = [int(i) for i in key]\n",
    "matrix=create_matrix(plaintext,keys)"
   ]
  },
  {
   "cell_type": "code",
   "execution_count": null,
   "id": "6f074126",
   "metadata": {},
   "outputs": [],
   "source": [
    "\n",
    "\n",
    "\n",
    "\n",
    "\n",
    "\n",
    "\n",
    "\n"
   ]
  },
  {
   "cell_type": "markdown",
   "id": "f9e8f01f",
   "metadata": {},
   "source": [
    "Q9 Implement product cipher transposition operation."
   ]
  },
  {
   "cell_type": "code",
   "execution_count": 21,
   "id": "4629efea",
   "metadata": {},
   "outputs": [
    {
     "name": "stdout",
     "output_type": "stream",
     "text": [
      "Enter the message : secret\n",
      "ecsetr\n"
     ]
    }
   ],
   "source": [
    "def product_cipher_transposition(plaintext, key):\n",
    "    key_length = len(key)\n",
    "    plaintext_length = len(plaintext)\n",
    "    if plaintext_length % key_length != 0:\n",
    "        padding_length = key_length - (plaintext_length % key_length)\n",
    "        plaintext += \" \" * padding_length\n",
    "        plaintext_length += padding_length\n",
    "\n",
    "    blocks = [\n",
    "        plaintext[i : i + key_length] for i in range(0, plaintext_length, key_length)\n",
    "    ]\n",
    "\n",
    "    transposed_blocks = []\n",
    "    for block in blocks:\n",
    "        transposed_block = [None] * key_length\n",
    "        for i, j in enumerate(key):\n",
    "            transposed_block[j] = block[i]\n",
    "        transposed_blocks.append(\"\".join(transposed_block))\n",
    "\n",
    "    ciphertext = \"\".join(transposed_blocks)\n",
    "    return ciphertext\n",
    "\n",
    "\n",
    "if __name__ == \"__main__\":\n",
    "    plaintext = input(\"Enter the message : \")\n",
    "    key = (2, 0, 1)\n",
    "    ciphertext = product_cipher_transposition(plaintext, key)\n",
    "    print(ciphertext)\n"
   ]
  },
  {
   "cell_type": "code",
   "execution_count": null,
   "id": "08cb10fc",
   "metadata": {},
   "outputs": [],
   "source": [
    "\n",
    "\n",
    "\n",
    "\n",
    "\n",
    "\n",
    "\n",
    "\n"
   ]
  },
  {
   "cell_type": "markdown",
   "id": "01dcbec4",
   "metadata": {},
   "source": [
    "Q10 Illustrate the Ciphertext only and Known Plaintext attacks"
   ]
  },
  {
   "cell_type": "code",
   "execution_count": 22,
   "id": "8d06a1b2",
   "metadata": {},
   "outputs": [
    {
     "name": "stdout",
     "output_type": "stream",
     "text": [
      "Original plaintext: the quick brown fox jumps over the lazy dog\n",
      "Encrypted ciphertext: zib hjgyw peqcv uqs kjrlm qxbe zib ontd fqa\n",
      "Cipher key: npyfbuaigkworvqlhemzjxcsdt\n",
      "Most frequent letters in ciphertext: ['q', 'b', 'z', 'i', 'j', 'e', 'h', 'g', 'y', 'w', 'p', 'c', 'v', 'u', 's', 'k', 'r', 'l', 'm', 'x', 'o', 'n', 't', 'd', 'f', 'a']\n",
      "Matching pairs: [('e', 'b'), ('h', 'i'), ('t', 'z')]\n",
      "Matching key: eht\n"
     ]
    }
   ],
   "source": [
    "import random\n",
    "import string\n",
    "\n",
    "alphabet = list(string.ascii_lowercase)\n",
    "cipher_key = alphabet.copy()\n",
    "random.shuffle(cipher_key)\n",
    "cipher_key = ''.join(cipher_key)\n",
    "\n",
    "plaintext = \"the quick brown fox jumps over the lazy dog\"\n",
    "ciphertext = \"\"\n",
    "for letter in plaintext:\n",
    "    if letter.isalpha():\n",
    "        ciphertext += cipher_key[alphabet.index(letter.lower())]\n",
    "    else:\n",
    "        ciphertext += letter\n",
    "\n",
    "print(\"Original plaintext:\", plaintext)\n",
    "print(\"Encrypted ciphertext:\", ciphertext)\n",
    "print(\"Cipher key:\", cipher_key)\n",
    "\n",
    "frequencies = {}\n",
    "for letter in ciphertext:\n",
    "    if letter.isalpha():\n",
    "        if letter.lower() in frequencies:\n",
    "            frequencies[letter.lower()] += 1\n",
    "        else:\n",
    "            frequencies[letter.lower()] = 1\n",
    "\n",
    "sorted_frequencies = sorted(frequencies.items(), key=lambda x: x[1], reverse=True)\n",
    "most_frequent = [x[0] for x in sorted_frequencies]\n",
    "print(\"Most frequent letters in ciphertext:\", most_frequent)\n",
    "\n",
    "known_plaintext = \"the\"\n",
    "matching_pairs = []\n",
    "for i in range(len(known_plaintext)):\n",
    "    plaintext_letter = known_plaintext[i]\n",
    "    ciphertext_letter = ciphertext[i]\n",
    "    matching_pairs.append((plaintext_letter, ciphertext_letter))\n",
    "\n",
    "matching_pairs = sorted(matching_pairs, key=lambda x: x[1])\n",
    "matching_key = \"\"\n",
    "for pair in matching_pairs:\n",
    "    matching_key += alphabet[cipher_key.index(pair[1].lower())]\n",
    "\n",
    "print(\"Matching pairs:\", matching_pairs)\n",
    "print(\"Matching key:\", matching_key)\n"
   ]
  },
  {
   "cell_type": "code",
   "execution_count": null,
   "id": "1d456cd8",
   "metadata": {},
   "outputs": [],
   "source": [
    "\n",
    "\n",
    "\n",
    "\n",
    "\n",
    "\n",
    "\n",
    "\n"
   ]
  },
  {
   "cell_type": "markdown",
   "id": "4b826582",
   "metadata": {},
   "source": [
    "Q11 Implement a stream cipher technique"
   ]
  },
  {
   "cell_type": "code",
   "execution_count": 38,
   "id": "053610a2",
   "metadata": {},
   "outputs": [
    {
     "name": "stdout",
     "output_type": "stream",
     "text": [
      "Enter Key: oak\n",
      "Enter Key: sky\n",
      "CipherText:  gki\n",
      "PlainBack:  sky\n"
     ]
    }
   ],
   "source": [
    "\n",
    "\n",
    "def Vernam(Plain,Key,Flag):\n",
    "    result=\"\"\n",
    "    for i in range(len(Plain)):\n",
    "        char=Plain[i]\n",
    "        if(Flag):\n",
    "            result+=chr((ord(char)-97 +ord(Key[i])-97)%26 +97)\n",
    "        else:\n",
    "            result += chr((ord(char) - ord(Key[i])+26) % 26 + 97)\n",
    "    return result\n",
    "# assumption:- for simplicity we are only considering lowercase-values and without spaces\n",
    "\n",
    "if __name__==\"__main__\":\n",
    "    Key=''.join(input(\"Enter Key: \").lower().split())\n",
    "    Plain=''.join(input(\"Enter Key: \").lower().split())\n",
    "    if(len(Key)!=len(Plain)):\n",
    "        print(\"Invalid Key!\")\n",
    "        exit(None)\n",
    "    CipherText=Vernam(Plain,Key,True)\n",
    "    print(\"CipherText: \",CipherText)\n",
    "    print(\"PlainBack: \",Vernam(CipherText,Key,False))\n",
    "\n",
    "\n"
   ]
  },
  {
   "cell_type": "code",
   "execution_count": null,
   "id": "932259de",
   "metadata": {},
   "outputs": [],
   "source": []
  },
  {
   "cell_type": "code",
   "execution_count": null,
   "id": "0dc46362",
   "metadata": {},
   "outputs": [],
   "source": []
  },
  {
   "cell_type": "code",
   "execution_count": null,
   "id": "8006427a",
   "metadata": {},
   "outputs": [],
   "source": []
  },
  {
   "cell_type": "code",
   "execution_count": null,
   "id": "27f933fd",
   "metadata": {},
   "outputs": [],
   "source": []
  }
 ],
 "metadata": {
  "kernelspec": {
   "display_name": "Python 3 (ipykernel)",
   "language": "python",
   "name": "python3"
  },
  "language_info": {
   "codemirror_mode": {
    "name": "ipython",
    "version": 3
   },
   "file_extension": ".py",
   "mimetype": "text/x-python",
   "name": "python",
   "nbconvert_exporter": "python",
   "pygments_lexer": "ipython3",
   "version": "3.10.7"
  }
 },
 "nbformat": 4,
 "nbformat_minor": 5
}
