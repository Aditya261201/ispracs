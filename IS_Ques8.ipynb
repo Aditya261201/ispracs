{
 "cells": [
  {
   "cell_type": "code",
   "execution_count": 11,
   "id": "fd4cbf71",
   "metadata": {},
   "outputs": [
    {
     "name": "stdout",
     "output_type": "stream",
     "text": [
      "Enter Plain Text for Row Transposition Operation hellothere\n",
      "Enter Key :- 43512\n",
      "Cypher text is :-  lrleoehteh\n"
     ]
    }
   ],
   "source": [
    "# CSC/20/50 Bharat Sharma UNIV_ROLL_NO:- 20059570040\n",
    "import re\n",
    "def convert(pt,d):\n",
    "    text=\"\"\n",
    "    for i in d:\n",
    "        i=i-1\n",
    "        j=0\n",
    "        while (j*max(d))+i<len(pt):\n",
    "            text+=pt[(j*max(d))+i]\n",
    "            j+=1\n",
    "    return text\n",
    "def create_matrix(pt,c):\n",
    "    pt=pt.replace(\" \",\"\")\n",
    "    pt=pt.lower()\n",
    "    pt=re.sub('[^a-zA-Z]+', '', pt)\n",
    "    res = [str(sub) for sub in pt]\n",
    "    print(\"Cypher text is :- \",convert(res,c))\n",
    "    \n",
    "    \n",
    "    \n",
    "plaintext=input(\"Enter Plain Text for Row Transposition Operation \")\n",
    "key=input(\"Enter Key :- \")\n",
    "keys = [int(i) for i in key]\n",
    "matrix=create_matrix(plaintext,keys)"
   ]
  },
  {
   "cell_type": "code",
   "execution_count": 4,
   "id": "e19f947a",
   "metadata": {},
   "outputs": [
    {
     "data": {
      "text/plain": [
       "3"
      ]
     },
     "execution_count": 4,
     "metadata": {},
     "output_type": "execute_result"
    }
   ],
   "source": [
    "c"
   ]
  }
 ],
 "metadata": {
  "kernelspec": {
   "display_name": "Python 3 (ipykernel)",
   "language": "python",
   "name": "python3"
  },
  "language_info": {
   "codemirror_mode": {
    "name": "ipython",
    "version": 3
   },
   "file_extension": ".py",
   "mimetype": "text/x-python",
   "name": "python",
   "nbconvert_exporter": "python",
   "pygments_lexer": "ipython3",
   "version": "3.10.9"
  }
 },
 "nbformat": 4,
 "nbformat_minor": 5
}
